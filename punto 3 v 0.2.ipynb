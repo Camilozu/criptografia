{
 "cells": [
  {
   "cell_type": "code",
   "execution_count": 1,
   "id": "bb836d6f",
   "metadata": {},
   "outputs": [],
   "source": [
    "from hashlib import sha256\n",
    "def sha(x):\n",
    "    return(sha256(x.encode()).hexdigest())\n",
    "    \n",
    "def shaSal(x,s):\n",
    "    return(sha256((x+s).encode()).hexdigest())\n",
    "\n",
    "def shaSalP(x,s,p):\n",
    "    return(sha256((x+s+p).encode()).hexdigest())\n",
    "    \n",
    "\n",
    "    "
   ]
  },
  {
   "cell_type": "markdown",
   "id": "2d7c335d",
   "metadata": {},
   "source": [
    "Punto 1)\n",
    "\n",
    "Se realizo un ataque de diccionario para el hash \"b69327b96303009b85072b2a4247e0678f9b5b64ab7fead295476e8c93adae92\" usando la herramienta CrackStation (https://crackstation.net/).\n",
    "\n",
    "La contraseña es: DylanismydadDylanismydad y se utiliza Sha256\n",
    "\n",
    "Comprobemos el resultado computando la hash y observamos que el resultado es el mismo.\n",
    "\n"
   ]
  },
  {
   "cell_type": "code",
   "execution_count": 2,
   "id": "d41c929f",
   "metadata": {},
   "outputs": [
    {
     "name": "stdout",
     "output_type": "stream",
     "text": [
      "b69327b96303009b85072b2a4247e0678f9b5b64ab7fead295476e8c93adae92\n"
     ]
    }
   ],
   "source": [
    "print(sha(\"DylanismydadDylanismydad\"))"
   ]
  },
  {
   "cell_type": "code",
   "execution_count": 3,
   "id": "e3378786",
   "metadata": {},
   "outputs": [],
   "source": [
    "path = \"E:/OneDrive/criptografia/tarea3/crackstation.txt\""
   ]
  },
  {
   "cell_type": "markdown",
   "id": "2d76a108",
   "metadata": {},
   "source": [
    "Punto 2)\n",
    "Ahora encontremos el resultado de la hash 3132716fb0937edea331a0fc8c402184a7e3710e62a0a21b180c046a095950e4 con sal 2234431c25d6413ef958f864c3fb39f8\n",
    "\n",
    "Primero, descargamos la base de contraseñas guardadas en crackstation, que tiene un peso de 15GB. \n",
    "\n",
    "Realizamos un prueba de ensayo  de ataque de diccionario, a y = h(DylanismydadDylanismydad) del punto 1 para comprobar que funcione correctamente.\n",
    "\n",
    "Importante: Para que el siguiente codigo funcione se debe modificar la ruta o path en donde localmente se tenga el archivo de crackstation."
   ]
  },
  {
   "cell_type": "code",
   "execution_count": 4,
   "id": "b86cd2a2",
   "metadata": {},
   "outputs": [],
   "source": [
    "path = \"E:/OneDrive/criptografia/tarea3/crackstation.txt\"\n",
    "c = \"b69327b96303009b85072b2a4247e0678f9b5b64ab7fead295476e8c93adae92\"\n",
    "file = open(path,\"r\",encoding=\"latin-1\")\n",
    "#for i, line in enumerate(file):\n",
    "#    line = line.rstrip() #Elimina salto de linea\n",
    "#    #print(i, line) #Linea numero 593314833\n",
    "#    y = sha(line)\n",
    "#    if y == c:\n",
    "#        print(y)\n",
    "#        print(\"La contraseña es: \"+line)\n",
    "#        break\n"
   ]
  },
  {
   "cell_type": "markdown",
   "id": "64358453",
   "metadata": {},
   "source": [
    "El output anterior despues de alguno tiempo es:\n",
    "\n",
    "b69327b96303009b85072b2a4247e0678f9b5b64ab7fead295476e8c93adae92\n",
    "La contraseña es: DylanismydadDylanismyda\n",
    "\n",
    "\n",
    "Ahora, realizamos un ataque de diccionario al hash con sal\n"
   ]
  },
  {
   "cell_type": "code",
   "execution_count": 5,
   "id": "2f77b542",
   "metadata": {},
   "outputs": [
    {
     "name": "stdout",
     "output_type": "stream",
     "text": [
      "fin\n"
     ]
    }
   ],
   "source": [
    "path = \"E:/OneDrive/criptografia/tarea3/crackstation.txt\"\n",
    "sal = \"2234431c25d6413ef958f864c3fb39f8\"\n",
    "hash1 = \"3132716fb0937edea331a0fc8c402184a7e3710e62a0a21b180c046a095950e4\"\n",
    "file = open(path,\"r\",encoding=\"latin-1\")\n",
    "for line in file:\n",
    "    line = line.rstrip(\"\\n\")\n",
    "    result = shaSal(sal,line)\n",
    "    result1 = shaSal(line,sal)\n",
    "    if result == hash1:\n",
    "        print(\"La contraseña es: \"+line)\n",
    "        print(line+sal)\n",
    "        print(result)\n",
    "        break\n",
    "    if result1 == hash1:\n",
    "        print(\"La contraseña es: \"+line)\n",
    "        print(sal+line)\n",
    "        print(result1)\n",
    "        break\n",
    "print(\"fin\")\n"
   ]
  },
  {
   "cell_type": "code",
   "execution_count": 8,
   "id": "30062980",
   "metadata": {},
   "outputs": [],
   "source": [
    "#From lib/python3.7/string.py\n",
    "\n",
    "whitespace = ' \\t\\n\\r\\v\\f'\n",
    "ascii_lowercase = 'abcdefghijklmnopqrstuvwxyz'\n",
    "ascii_uppercase = 'ABCDEFGHIJKLMNOPQRSTUVWXYZ'\n",
    "ascii_letters = ascii_lowercase + ascii_uppercase\n",
    "digits = '0123456789'\n",
    "hexdigits = digits + 'abcdef' + 'ABCDEF'\n",
    "octdigits = '01234567'\n",
    "punctuation = r\"\"\"!\"#$%&'()*+,-./:;<=>?@[\\]^_`{|}~\"\"\"\n",
    "printable = digits + ascii_letters + punctuation + whitespace\n",
    "\n",
    "\n"
   ]
  },
  {
   "cell_type": "code",
   "execution_count": null,
   "id": "59b8983c",
   "metadata": {},
   "outputs": [],
   "source": [
    "\n",
    "path = \"E:/OneDrive/criptografia/tarea3/crackstation.txt\"\n",
    "sal = \"e1d1d9d30b13e7749f8e9f4c346bd8cf\"\n",
    "hash2 = \"7e633ef3a1a429eaa4b70f06fd0082a7ba62d79035db3f2e6727c9dda7da673b\"\n",
    "file = open(path,\"r\",encoding=\"latin-1\")\n",
    "for line in file:\n",
    "    line = line.rstrip(\"\\n\")\n",
    "    for p in printable:\n",
    "        result = shaSalP(line,sal,p)\n",
    "        if result == hash2:\n",
    "            print(\"La contraseña es: \"+line)\n",
    "            print(line+sal)\n",
    "            print(result)\n",
    "            break\n",
    "print(\"Sin resultados\")"
   ]
  },
  {
   "cell_type": "code",
   "execution_count": null,
   "id": "b35ff0e2",
   "metadata": {},
   "outputs": [],
   "source": []
  }
 ],
 "metadata": {
  "kernelspec": {
   "display_name": "Python 3 (ipykernel)",
   "language": "python",
   "name": "python3"
  },
  "language_info": {
   "codemirror_mode": {
    "name": "ipython",
    "version": 3
   },
   "file_extension": ".py",
   "mimetype": "text/x-python",
   "name": "python",
   "nbconvert_exporter": "python",
   "pygments_lexer": "ipython3",
   "version": "3.8.8"
  }
 },
 "nbformat": 4,
 "nbformat_minor": 5
}
