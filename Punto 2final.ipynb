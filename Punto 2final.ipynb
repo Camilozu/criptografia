{
 "cells": [
  {
   "cell_type": "markdown",
   "id": "64a440bc",
   "metadata": {},
   "source": [
    "La idea principal que vamos a utilizar, es que no todos los caracteres de latin1 son caracteres válidos en español. Para ello, después de importar los módulos necesarios y las funciones que nos permiten pasar de caracteres en latin1 a números enteros y vice-versa, definimos como caracteres válidos solo aquellos que plausiblemente puedan ser utilizados en un texto en español."
   ]
  },
  {
   "cell_type": "code",
   "execution_count": 1,
   "id": "a4e011f6",
   "metadata": {},
   "outputs": [],
   "source": [
    "import collections\n",
    "import itertools\n",
    "import random\n",
    "import enchant\n",
    "import binascii\n",
    "\n",
    "def text_to_bits(text, encoding='latin1', errors='strict'):\n",
    "    bits = bin(int.from_bytes(text.encode(encoding, errors), 'big'))[2:]\n",
    "    return bits.zfill(8 * ((len(bits) + 7) // 8))\n",
    "\n",
    "def text_from_bits(bits, encoding='latin1', errors='strict'):\n",
    "    n = int(bits, 2)\n",
    "    return n.to_bytes((n.bit_length() + 7) // 8, 'big').decode(encoding, errors) or '\\0'"
   ]
  },
  {
   "cell_type": "code",
   "execution_count": 2,
   "id": "78f6de1e",
   "metadata": {},
   "outputs": [],
   "source": [
    "x = '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'\n",
    "tamaño_llave = 32\n",
    "msj = '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'"
   ]
  },
  {
   "cell_type": "code",
   "execution_count": 3,
   "id": "af86064b",
   "metadata": {},
   "outputs": [
    {
     "name": "stdout",
     "output_type": "stream",
     "text": [
      "0123456789BCDFGHJKLMNPQRSTVWXYZbcdfghjklmnpqrstvwxyzÑñAEIOUaeiouÁÉÍÓÚáéíóúü !\"'(),.:;?@¡¸¿ 90\n",
      "['0x30', '0x31', '0x32', '0x33', '0x34', '0x35', '0x36', '0x37', '0x38', '0x39', '0x42', '0x43', '0x44', '0x46', '0x47', '0x48', '0x4a', '0x4b', '0x4c', '0x4d', '0x4e', '0x50', '0x51', '0x52', '0x53', '0x54', '0x56', '0x57', '0x58', '0x59', '0x5a', '0x62', '0x63', '0x64', '0x66', '0x67', '0x68', '0x6a', '0x6b', '0x6c', '0x6d', '0x6e', '0x70', '0x71', '0x72', '0x73', '0x74', '0x76', '0x77', '0x78', '0x79', '0x7a', '0xd1', '0xf1', '0x41', '0x45', '0x49', '0x4f', '0x55', '0x61', '0x65', '0x69', '0x6f', '0x75', '0xc1', '0xc9', '0xcd', '0xd3', '0xda', '0xe1', '0xe9', '0xed', '0xf3', '0xfa', '0xfc', '0x20', '0x21', '0x22', '0x27', '0x28', '0x29', '0x2c', '0x2e', '0x3a', '0x3b', '0x3f', '0x40', '0xa1', '0xb8', '0xbf']\n",
      "0\n",
      "1\n",
      "2\n",
      "3\n",
      "4\n",
      "5\n",
      "6\n",
      "7\n",
      "8\n",
      "9\n",
      "B\n",
      "C\n",
      "D\n",
      "F\n",
      "G\n",
      "H\n",
      "J\n",
      "K\n",
      "L\n",
      "M\n",
      "N\n",
      "P\n",
      "Q\n",
      "R\n",
      "S\n",
      "T\n",
      "V\n",
      "W\n",
      "X\n",
      "Y\n",
      "Z\n",
      "b\n",
      "c\n",
      "d\n",
      "f\n",
      "g\n",
      "h\n",
      "j\n",
      "k\n",
      "l\n",
      "m\n",
      "n\n",
      "p\n",
      "q\n",
      "r\n",
      "s\n",
      "t\n",
      "v\n",
      "w\n",
      "x\n",
      "y\n",
      "z\n",
      "Ñ\n",
      "ñ\n",
      "A\n",
      "E\n",
      "I\n",
      "O\n",
      "U\n",
      "a\n",
      "e\n",
      "i\n",
      "o\n",
      "u\n",
      "Á\n",
      "É\n",
      "Í\n",
      "Ó\n",
      "Ú\n",
      "á\n",
      "é\n",
      "í\n",
      "ó\n",
      "ú\n",
      "ü\n",
      " \n",
      "!\n",
      "\"\n",
      "'\n",
      "(\n",
      ")\n",
      ",\n",
      ".\n",
      ":\n",
      ";\n",
      "?\n",
      "@\n",
      "¡\n",
      "¸\n",
      "¿\n"
     ]
    }
   ],
   "source": [
    "NUMEROS=\"0123456789\"\n",
    "CONSONANTES=\"BCDFGHJKLMNPQRSTVWXYZbcdfghjklmnpqrstvwxyzÑñ\"\n",
    "VOCALES=\"AEIOUaeiouÁÉÍÓÚáéíóúü\"\n",
    "LETRAS=CONSONANTES+VOCALES\n",
    "SIMBOLOS=\"\"\" !\"'(),.:;?@¡¸¿\"\"\"\n",
    "LEGIBLES=NUMEROS+LETRAS+SIMBOLOS\n",
    "print(LEGIBLES,len(LEGIBLES))\n",
    "Lista = []\n",
    "for letra in LEGIBLES:\n",
    "    letra_en_latin1 = hex(int(text_to_bits(letra, encoding='latin1', errors='strict'),2))\n",
    "    Lista.append(letra_en_latin1)\n",
    "print(Lista)\n",
    "for ele in Lista:\n",
    "    binario = bin(int(ele,16))\n",
    "    k = text_from_bits(binario, encoding='latin1', errors='strict')\n",
    "    print(k)"
   ]
  },
  {
   "cell_type": "code",
   "execution_count": 4,
   "id": "6730e2ac",
   "metadata": {},
   "outputs": [],
   "source": [
    "bloques_msj = int((len(x)-2)/tamaño_llave)"
   ]
  },
  {
   "cell_type": "code",
   "execution_count": 5,
   "id": "af482cb2",
   "metadata": {},
   "outputs": [
    {
     "name": "stdout",
     "output_type": "stream",
     "text": [
      "['t_0', 't_1', 't_2', 't_3', 't_4', 't_5', 't_6', 't_7', 't_8', 't_9', 't_10', 't_11', 't_12', 't_13', 't_14', 't_15']\n"
     ]
    }
   ],
   "source": [
    "lista_var = [f't_{i}' for i in range(int(tamaño_llave/2))]\n",
    "print(lista_var)"
   ]
  },
  {
   "cell_type": "markdown",
   "id": "1531e5cb",
   "metadata": {},
   "source": [
    "Lo primero que vamos a hacer es crear un diccionario que nos guarde en la entrada $n$ la concatenación de los dígitos $2n$ y $2n+1$ para cada $n$ entre $0$ y $15$ para cada uno de los bloques, puesto que cada par de estos caracteres bajo la misma entrada en el diccionario estará encriptado con los mismos dos dígitos hexadecimales de la llave."
   ]
  },
  {
   "cell_type": "code",
   "execution_count": 6,
   "id": "358947a5",
   "metadata": {},
   "outputs": [
    {
     "name": "stdout",
     "output_type": "stream",
     "text": [
      "{'t_0': ['08', '30', '20', '28', '20', '2b', '26', '24', '30', '29', '29', '65', '24', '20', '65', '36', '29', '65', '34', '27', '65', '21', '2b', '2a', '6b', '24', '65', '37', '69', '24', '36', '29', '24', '20', '28', '34', 'a4', '2d', '21', '2a', '24', '31', '24', '24', '24', '20', '36', '65', '20', '20', '30', '24', '35', '2b', '24', '65', '30', '65', '65', '36', '27', '65', '24', '24', '20', '65', 'a8'], 't_1': ['06', '9a', '1f', '1a', '1f', '17', '1c', '01', '16', '16', '53', '16', '53', '53', '0a', '07', '1f', '12', '06', '12', '17', '12', '1c', '00', '53', '1d', '1e', '16', '53', '01', '16', '53', '17', '53', '92', '06', '00', '12', '16', '00', '00', '1c', '01', '00', '53', '01', '53', '11', '53', '10', '16', '53', '1c', '17', '53', '1f', '12', '10', '16', '53', '1a', '05', '53', '17', '53', '17', '12'], 't_2': ['17', '07', '1b', '11', '54', '99', '06', '10', '54', '02', '1c', '06', '15', '17', '54', '06', '15', '13', '11', '1a', '11', '07', '06', '54', '31', '54', '01', '17', '0d', '18', '85', '10', '1d', '11', '07', '11', '54', '16', '54', '1d', '15', '10', '07', '00', '17', '0e', '17', '01', '1a', '1d', '54', '10', '17', '1b', '19', '15', '18', '1b', '1a', '00', '00', '11', '12', '1d', '00', '1b', '54'], 't_3': ['0d', '49', '11', '0b', '24', '04', '01', '00', '16', '96', '0c', '04', '09', '04', '06', '10', '45', '10', '45', '45', '45', '49', '08', '15', '09', '17', '06', '88', '45', '04', '04', '00', '0a', '17', '45', '45', '00', '88', '11', '06', '16', '04', '00', '00', '0a', '0a', '04', '00', '0c', '07', '0a', '00', '0a', '45', '84', '07', '14', '0b', '11', '17', '04', '17', '00', '00', '17', '0b', '08'], 't_4': ['1d', '52', '81', '06', '07', '52', '13', '52', '07', '52', '17', '52', '16', '01', '13', '1b', '16', '13', '01', '02', '02', '52', '17', '00', '52', '17', '1a', '13', '02', '01', '1e', '16', '52', '13', '17', '01', '1c', '13', '13', '1b', '5e', '01', '52', '11', '1c', '5e', '1e', '1c', '1c', '9f', '06', '1e', '01', '14', '01', '1d', '07', '1d', '1d', '17', '1c', '16', '1e', '52', '17', '16', '07'], 't_5': ['1d', '08', '00', '01', '1c', '06', '1c', '1c', '4e', '0f', '02', '0b', '0b', '0f', '9f', '0a', '0b', '1d', '0b', '01', '07', '0c', '1d', '0b', '03', '0d', '0f', '00', '0f', '4e', '0f', '01', '2c', '4e', '03', '0b', '4e', '4e', '02', '9d', '4e', '4e', '0f', '0b', '4e', '4e', '02', '4e', '09', '0f', '1c', '4e', '4e', '1b', '4e', '1c', '07', '0d', '00', '1d', '1a', '0f', '07', '0b', '07', '0b', '0b'], 't_6': ['4f', '1d', '4f', '43', '0a', '0e', '4f', '0a', '1f', '4f', '00', '01', '0e', '1c', '0e', '0e', '4f', '4f', '4f', '1d', '0a', '03', '4f', '07', '1a', '06', '1c', '4f', '1d', '07', '1d', '41', '1a', '0a', '1f', '4f', '03', '0b', '4f', '01', '1e', '1f', '03', '1d', '06', '16', '0a', '1c', '1a', '4f', '0e', '0c', '0e', '0a', '00', '06', '0a', '06', '0c', '0c', '0a', '0b', '15', '1d', '01', '4f', '1d'], 't_7': ['02', '06', '07', '43', '0f', '01', '02', '0e', '02', '00', '4d', '17', '43', '43', '01', '43', '16', '07', '13', '43', '07', '02', '00', '0a', '0d', '06', '43', '07', '02', '02', '0f', '43', '06', '0f', '11', '15', '02', '0a', '0e', '43', '16', '0c', '43', '10', '04', '43', '10', '06', '0d', '0e', '43', '02', '92', '43', '11', '0c', '11', '07', '06', '0a', '10', '43', '4f', '02', '17', '0d', '17'], 't_8': ['9d', '02', '09', '09', '05', '81', '1d', '03', '08', '03', '4c', '03', '08', '08', '1e', '0d', '02', '05', '1e', '19', '1e', '02', '03', '1f', '08', '02', '0f', '09', '4c', '0e', '0d', '26', '02', '4c', '09', '09', '4c', '1f', '03', '08', '09', '08', '1e', '09', '19', '18', '4c', '02', '0d', '8d', '0d', '00', '03', '19', '08', '1f', '0d', '0d', '1f', '09', '42', '19', '4c', '4c', '0d', '0d', '03'], 't_9': ['0a', '11', '45', '09', '04', '04', '10', '11', '17', '0b', '28', '0b', '00', '00', '04', '45', '45', '84', '00', '0b', '04', '06', '08', '11', '0a', '11', '0a', '45', '08', '88', '16', '0a', '01', '0d', '0b', '17', '04', '15', '01', '00', '45', '88', '88', '45', '04', '17', '06', '11', '45', '16', '45', '0a', '16', '0b', '00', '04', '45', '16', '45', '0b', '45', '0b', '01', '08', '45', '01', '4b'], 't_10': ['1a', '0c', '0f', '49', '07', '49', '0c', '08', '0c', '06', '08', '0a', '49', '49', '1f', '05', '1b', '0f', '0a', '49', '1a', '08', '06', '9a', '49', '0c', '1a', '07', '0c', '08', '49', '1a', '84', '06', '0d', '84', '05', '1c', '06', '49', '0d', '08', '06', '0d', '05', '08', '06', '00', '0a', '49', '05', '1b', '45', '08', '07', '49', '0d', '49', '19', '1d', '2c', '08', '06', '08', '08', '00', '0c'], 't_11': ['44', '44', '11', '07', '0b', '00', '08', '44', '44', '07', '07', '01', '12', '06', '05', '05', '89', '05', '0d', '08', '44', '17', '44', '16', '01', '48', '05', '0b', '0a', '44', '07', '8d', '05', '09', '01', '05', '00', '01', '44', '08', '01', '44', '44', '01', '44', '1e', '0a', '00', '05', '17', '05', '4a', '44', '44', '05', '15', '01', '0c', '0b', '0b', '16', '44', '0a', '1d', '95', '01', '26'], 't_12': ['0b', '0e', '1c', '00', '4f', '0a', '03', '0a', '03', '0a', '00', '1c', '0a', '0e', '4f', '4f', '00', '01', '1f', '0a', '1f', '4f', '07', '06', '1d', '4f', '1c', '02', '0c', '1e', '00', '4f', '43', '0d', '0b', '4f', '0a', '1c', '03', '0e', '1c', '03', '16', '4f', '0a', '9c', '4f', '00', '1c', '00', '4f', '4f', '22', '0e', '0b', '1a', '4f', '0e', '1d', '1c', '0e', '0e', '0b', '00', '00', '4f', '08'], 't_13': ['08', '01', '04', '1f', '2f', '4d', '0c', '03', '02', '1f', '03', '4d', '04', '1f', '0e', '02', '4d', '0c', '04', '0e', '18', '14', '18', '0e', '0c', '1c', '4d', '0f', '04', '18', '03', '2c', '4d', '1f', '02', '07', '0c', '19', '0c', '1e', '09', '01', '4d', '0c', '1e', '4d', '19', '4d', '0c', '01', '05', '28', '0c', '01', '0c', '08', '01', '1e', '4d', '4d', '4d', '01', '08', '1f', '1e', '05', '0e'], 't_14': ['12', '41', '0d', '0e', '14', '13', '41', '41', '41', '41', '05', '14', '0f', '13', '0e', '13', '05', '12', '15', '09', '0d', '41', '04', '0e', '41', '14', '02', '13', '0e', '04', '41', '13', '10', '04', '13', '00', '4d', '0e', '41', '41', '04', '04', '00', '06', '07', '0d', '00', '10', '41', '41', '0e', '0f', '02', '05', '41', '41', '00', '15', '12', '09', '04', '05', '41', '41', '41', '00', '09'], 't_15': ['03', '03', '12', '1d', '16', '16', '07', '02', '1f', '16', '1c', '1d', '07', '1c', '1d', '1a', '16', '53', '12', '1c', '1a', '16', '05', '00', '07', '16', '12', '16', '1d', '53', '16', '10', '06', '53', '53', '1e', '53', '53', '03', '10', '53', '14', '11', '06', '06', '12', '1d', '06', '01', '02', '01', '53', '1c', '16', '0a', '10', '00', '12', '06', '12', '1d', '16', '1d', '17', '0a', '11', '09']}\n"
     ]
    }
   ],
   "source": [
    "dic1 = {}\n",
    "for i in range(16):\n",
    "    lista_llave_i = []\n",
    "    for j in range(0,len(msj),2):\n",
    "        if (j % tamaño_llave) == 2*i:\n",
    "            z = msj[j]+msj[j+1]\n",
    "            lista_llave_i.append(z)\n",
    "        dic1[f't_{i}'] = lista_llave_i\n",
    "print(dic1)"
   ]
  },
  {
   "cell_type": "markdown",
   "id": "8d566d54",
   "metadata": {},
   "source": [
    "Ahora, chequeamos que cada par de dígitos hexadecimales de la llave en las posiciones $2n$ y $2n+1$ nos arroje caracteres válidos para todos los elementos asociados a la entrada $n$ del diccionario. Notemos que esto es computacionalmente muy rápido, ya que en total hay solo $16^2=256$ posíbilidades para los dós dígitos de la llave en la que estamos interesados. De esta forma, podemos hallar la llave de a dos dígitos a la vez, pudiendo saber si cada par de dígitos de la llave son potencialmente correctos con independencia de los demás, reducienco así el espacio de búsqueda de $(16^2)^{16}=16^{32}=2^{128}$ opciones, que es computacionalmente inviable, a tan solo $16\\times 16^2=16^3=4096$ opciones, lo cuál es completamente factible."
   ]
  },
  {
   "cell_type": "code",
   "execution_count": 7,
   "id": "2599e539",
   "metadata": {
    "scrolled": true
   },
   "outputs": [
    {
     "name": "stdout",
     "output_type": "stream",
     "text": [
      "[69]\n",
      "[115]\n",
      "[116]\n",
      "[101]\n",
      "[114]\n",
      "[110]\n",
      "[111]\n",
      "[99]\n",
      "[108]\n",
      "[101]\n",
      "[105]\n",
      "[100]\n",
      "[111]\n",
      "[109]\n",
      "[97, 99]\n",
      "[115]\n"
     ]
    }
   ],
   "source": [
    "La_Llave = {}\n",
    "for dig in lista_var:\n",
    "    listallave = []\n",
    "    for i in range(16*16):\n",
    "        found = True\n",
    "        cont = 0\n",
    "        for j in dic1[dig]:\n",
    "            if found == False:\n",
    "                #print('Error')\n",
    "                cont = 0\n",
    "                break\n",
    "            k = bin(i ^ int(j,16))\n",
    "            k_letra = text_from_bits(k, encoding='latin1', errors='strict')\n",
    "            found = k_letra in LEGIBLES\n",
    "            cont += 1\n",
    "        if cont == 67:\n",
    "            listallave.append(i)\n",
    "    La_Llave[dig] = listallave\n",
    "for k in La_Llave.values():\n",
    "    print(k)"
   ]
  },
  {
   "cell_type": "code",
   "execution_count": 8,
   "id": "a5b0f656",
   "metadata": {},
   "outputs": [
    {
     "name": "stdout",
     "output_type": "stream",
     "text": [
      "{'t_0': [69], 't_1': [115], 't_2': [116], 't_3': [101], 't_4': [114], 't_5': [110], 't_6': [111], 't_7': [99], 't_8': [108], 't_9': [101], 't_10': [105], 't_11': [100], 't_12': [111], 't_13': [109], 't_14': [97, 99], 't_15': [115]}\n"
     ]
    }
   ],
   "source": [
    "print(La_Llave)"
   ]
  },
  {
   "cell_type": "markdown",
   "id": "683b0839",
   "metadata": {},
   "source": [
    "Finalmente, desencriptamos el texto"
   ]
  },
  {
   "cell_type": "code",
   "execution_count": 9,
   "id": "c3a902f4",
   "metadata": {},
   "outputs": [
    {
     "name": "stdout",
     "output_type": "stream",
     "text": [
      "Muchos años después, frente al pelotón de fusilamiento, el coronel Aureliano Buendía había de recordar aquella tarde remota en que su padre lo llevó a conocer el hielo. Macondo era entonces una aldea de veinte casas de barro y cañabrava construida a la orilla de un río de aguas diáfanas que se precipitaban por un lecho de piedras pulidas, blancas y enormes como huevos prehistóricos. El mundo era tan reciente, que muchas cosas carecían de nombre, y para mencionarlas había que señalarlas con el dedo. José Arcadio Buendía, que era el hombre más emprendedor que se vería jamás en la aldea, había dispuesto de tal modo la posición de las casas, que desde todas podía llegarse al río y abastecerse de agua con igual esfuerzo, y trazó las calles con tan buen sentido que ninguna casa recibía más sol que otra a la hora del calor. En pocos años, Macondo fue una aldea más ordenada y laboriosa que cualquiera de las conocidas hasta entonces por sus trescientos habitantes. Era en verdad una aldea feliz, donde nadie era mayor de treinta años y donde nadie había muerto.eBgchz\n"
     ]
    }
   ],
   "source": [
    "pt = ''\n",
    "for j in range(0,len(msj),2):\n",
    "    jmod16 = int(j/2)%16\n",
    "    string_ct = msj[j]+msj[j+1]\n",
    "    numero_ct = int(string_ct,16)\n",
    "    ff = f't_{jmod16}'\n",
    "    lista_ronda = La_Llave[ff]\n",
    "    llave_ronda = lista_ronda[0]\n",
    "    numero_pt = llave_ronda^numero_ct\n",
    "    function_fodder = bin(numero_pt)\n",
    "    car_pt = text_from_bits(function_fodder, encoding='latin1', errors='strict')\n",
    "    pt += car_pt\n",
    "print(pt)"
   ]
  }
 ],
 "metadata": {
  "kernelspec": {
   "display_name": "Python 3 (ipykernel)",
   "language": "python",
   "name": "python3"
  },
  "language_info": {
   "codemirror_mode": {
    "name": "ipython",
    "version": 3
   },
   "file_extension": ".py",
   "mimetype": "text/x-python",
   "name": "python",
   "nbconvert_exporter": "python",
   "pygments_lexer": "ipython3",
   "version": "3.9.12"
  }
 },
 "nbformat": 4,
 "nbformat_minor": 5
}
